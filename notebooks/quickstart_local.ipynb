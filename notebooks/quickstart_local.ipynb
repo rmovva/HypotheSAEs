{
 "cells": [
  {
   "cell_type": "markdown",
   "id": "bbe1093a",
   "metadata": {},
   "source": [
    "# HypotheSAEs Quickstart: Local\n",
    "\n",
    "This notebook demonstrates basic usage of HypotheSAEs on a sample of the Yelp review dataset, entirely using local compute. You will need a GPU*.\n",
    "- We use a sentence-transformers model for text embeddings. This can run on CPU or GPU (if a cuda device is available, it will use GPU).\n",
    "- We use a large language model loaded in vLLM for hypothesis generation and text annotation. This requires GPU.\n",
    "- This notebook uses `Qwen/Qwen3-32B-AWQ`. (If your GPU doesn't support this model or have enough memory, you can use a different model.)\n",
    "- Takes about 80 minutes to run using an NVIDIA A6000. The slowest step is hypothesis evaluation on the heldout set, which requires lots of LLM annotation.\n",
    "\n",
    "*It's possible you can get some smaller LLMs to run on CPU, perhaps with some modifications to the vLLM config, but it's not tested."
   ]
  },
  {
   "cell_type": "code",
   "execution_count": 30,
   "id": "eca34045",
   "metadata": {},
   "outputs": [
    {
     "name": "stdout",
     "output_type": "stream",
     "text": [
      "The autoreload extension is already loaded. To reload it, use:\n",
      "  %reload_ext autoreload\n"
     ]
    }
   ],
   "source": [
    "%load_ext autoreload\n",
    "%autoreload 2\n",
    "\n",
    "import os\n",
    "import sys\n",
    "os.environ['CUDA_VISIBLE_DEVICES'] = '0' # Set to the index of the GPU you want to use; see visible GPUs with `nvidia-smi` on command line\n",
    "\n",
    "import numpy as np\n",
    "import pandas as pd\n",
    "\n",
    "current_dir = os.getcwd()\n",
    "if current_dir.endswith(\"notebooks\"):\n",
    "    parent_dir = os.path.dirname(current_dir)\n",
    "    sys.path.insert(0, parent_dir)\n",
    "\n",
    "from hypothesaes.quickstart import train_sae, interpret_sae, generate_hypotheses, evaluate_hypotheses\n",
    "from hypothesaes.embedding import get_local_embeddings\n",
    "from hypothesaes.llm_local import get_vllm_engine"
   ]
  },
  {
   "cell_type": "markdown",
   "id": "02955b92",
   "metadata": {},
   "source": [
    "**0. Load data**\n",
    "\n",
    "The dataset we're using here is a subset of 20K Yelp reviews, with 2K reviews used for validation (during SAE training).\n",
    "\n",
    "The target variable is the `stars` column, which is a rating between 1 and 5. We treat this as a regression task.\n",
    "\n",
    "There are also 2K reviews used for holdout evaluation, which we'll use at the end of the notebook."
   ]
  },
  {
   "cell_type": "code",
   "execution_count": 2,
   "id": "c528a9ed",
   "metadata": {},
   "outputs": [],
   "source": [
    "current_dir = os.getcwd()\n",
    "if current_dir.endswith(\"notebooks\"):\n",
    "    prefix = \"../\"\n",
    "else:\n",
    "    prefix = \"./\"\n",
    "\n",
    "base_dir = os.path.join(prefix, \"demo_data\")\n",
    "train_df = pd.read_json(os.path.join(base_dir, \"yelp-demo-train-20K.json\"), lines=True)\n",
    "val_df = pd.read_json(os.path.join(base_dir, \"yelp-demo-val-2K.json\"), lines=True)\n",
    "\n",
    "texts = train_df['text'].tolist()\n",
    "labels = train_df['stars'].values\n",
    "val_texts = val_df['text'].tolist() # These are only used for early stopping of SAE training, so we don't need labels."
   ]
  },
  {
   "cell_type": "markdown",
   "id": "3b6b2bc7",
   "metadata": {},
   "source": [
    "**1. Compute text embeddings for your dataset**\n",
    "\n",
    "We'll compute text embeddings for a training set, and optionally a validation set. The validation embeddings are used for SAE eval and early-stopping during training.\n",
    "\n",
    "Embeddings will be stored in the `emb_cache` directory (or `os.environ[\"EMB_CACHE_DIR\"]` if you set it) using the `cache_name` parameter, so you only need to compute embeddings once.\n",
    "\n",
    "We will compute embeddings using a good sentence-transformers model, `nomic-ai/modernbert-embed-base` (smaller models like `sentence-transformers/all-roberta-large-v1` should also work well, and may fit on GPUs with less memory)."
   ]
  },
  {
   "cell_type": "code",
   "execution_count": null,
   "id": "4bba69b0",
   "metadata": {},
   "outputs": [],
   "source": [
    "EMBEDDER = \"nomic-ai/modernbert-embed-base\"\n",
    "CACHE_NAME = f\"yelp_quickstart_local_{EMBEDDER}\"\n",
    "\n",
    "text2embedding = get_local_embeddings(texts + val_texts, model=EMBEDDER, layer_idx=-2, component=\"hidden_states\", batch_size=128, cache_name=CACHE_NAME)\n",
    "embeddings = np.stack([text2embedding[text] for text in texts])\n",
    "\n",
    "train_embeddings = np.stack([text2embedding[text] for text in texts])\n",
    "val_embeddings = np.stack([text2embedding[text] for text in val_texts])"
   ]
  },
  {
   "cell_type": "code",
   "execution_count": null,
   "id": "d6a6a434",
   "metadata": {},
   "outputs": [],
   "source": []
  },
  {
   "cell_type": "markdown",
   "id": "8fa341e7",
   "metadata": {},
   "source": [
    "**2. Train SAE**\n",
    "\n",
    "We will train a Matryoshka SAE with $M=256$, $k=8$, and $\\text{prefix\\_lengths} = [32, 256]$.  \n",
    "\n",
    "With the Matryoshka loss, the SAE will learn to reconstruct the input from (1) just the first 32 neurons, and (2) all 256 neurons.  \n",
    "This will produce 32 coarse-grained features, and 224 finer-grained features.  \n",
    "\n",
    "See the README for more details about selecting SAE hyperparameters. \n",
    "\n",
    "\n",
    "\n"
   ]
  },
  {
   "cell_type": "code",
   "execution_count": 4,
   "id": "baf4dcab",
   "metadata": {},
   "outputs": [
    {
     "name": "stdout",
     "output_type": "stream",
     "text": [
      "Loaded model from ../checkpoints/yelp_quickstart_local_nomic-ai/modernbert-embed-base/SAE_matryoshka_M=256_K=8_prefixes=32-256.pt onto device cuda\n"
     ]
    }
   ],
   "source": [
    "checkpoint_dir = os.path.join(prefix, \"checkpoints\", CACHE_NAME)\n",
    "sae = train_sae(embeddings=train_embeddings, M=256, K=8, matryoshka_prefix_lengths=[32, 256], checkpoint_dir=checkpoint_dir, val_embeddings=val_embeddings)"
   ]
  },
  {
   "cell_type": "markdown",
   "id": "3e67563e",
   "metadata": {},
   "source": [
    "**3. Interpret neurons**\n",
    "\n",
    "This step will load a local LLM in vLLM, and use it to interpret a few random neurons in the SAE.  \n",
    "This is to ensure that the local LLM is working and the interpretations look reasonable, if not perfect."
   ]
  },
  {
   "cell_type": "code",
   "execution_count": null,
   "id": "6d5d0fd0",
   "metadata": {},
   "outputs": [
    {
     "name": "stdout",
     "output_type": "stream",
     "text": [
      "Loading Qwen/Qwen3-32B-AWQ in vLLM...\n",
      "WARNING 07-28 15:51:59 [topk_topp_sampler.py:59] FlashInfer is not available. Falling back to the PyTorch-native implementation of top-p & top-k sampling. For the best performance, please install FlashInfer.\n"
     ]
    },
    {
     "name": "stderr",
     "output_type": "stream",
     "text": [
      "Loading safetensors checkpoint shards:   0% Completed | 0/4 [00:00<?, ?it/s]\n",
      "Loading safetensors checkpoint shards:  25% Completed | 1/4 [00:02<00:06,  2.22s/it]\n",
      "Loading safetensors checkpoint shards:  50% Completed | 2/4 [00:04<00:04,  2.12s/it]\n",
      "Loading safetensors checkpoint shards:  75% Completed | 3/4 [00:06<00:02,  2.39s/it]\n",
      "Loading safetensors checkpoint shards: 100% Completed | 4/4 [00:09<00:00,  2.53s/it]\n",
      "Loading safetensors checkpoint shards: 100% Completed | 4/4 [00:09<00:00,  2.43s/it]\n",
      "\n",
      "Capturing CUDA graph shapes: 100%|██████████| 67/67 [01:05<00:00,  1.03it/s]\n"
     ]
    },
    {
     "name": "stdout",
     "output_type": "stream",
     "text": [
      "Loaded Qwen/Qwen3-32B-AWQ with dtype: torch.float16 (took 146.8s)\n"
     ]
    }
   ],
   "source": [
    "'''\n",
    "Some vLLM notes:\n",
    "- When running in notebook, it's best to use the same interpreter and annotator model;\n",
    "  this is because there is some memory overhead when switching models (ie we can't fully free GPU memory).\n",
    "- We set `gpu_memory_utilization=0.85`, which avoids OOMs with Qwen3-32B-AWQ on an A6000.\n",
    "  You may want to adjust this depending on your hardware/model.\n",
    "- You can increase `tensor_parallel_size` to use multiple GPUs on the same node.\n",
    "  See vLLM docs: https://docs.vllm.ai/en/latest/serving/distributed_serving.html\n",
    "'''\n",
    "\n",
    "INTERPRETER_MODEL = ANNOTATOR_MODEL = \"Qwen/Qwen3-32B-AWQ\"\n",
    "\n",
    "engine = get_vllm_engine(\n",
    "    INTERPRETER_MODEL, \n",
    "    gpu_memory_utilization=0.85,\n",
    "    tensor_parallel_size=1,\n",
    ")"
   ]
  },
  {
   "cell_type": "code",
   "execution_count": 6,
   "id": "67ed3253",
   "metadata": {},
   "outputs": [
    {
     "data": {
      "application/vnd.jupyter.widget-view+json": {
       "model_id": "f0bfc561a0d14b458fcb0862ac37b028",
       "version_major": 2,
       "version_minor": 0
      },
      "text/plain": [
       "Computing activations (batchsize=16384):   0%|          | 0/2 [00:00<?, ?it/s]"
      ]
     },
     "metadata": {},
     "output_type": "display_data"
    },
    {
     "name": "stdout",
     "output_type": "stream",
     "text": [
      "Activations shape: (20000, 256)\n"
     ]
    },
    {
     "data": {
      "application/vnd.jupyter.widget-view+json": {
       "model_id": "9a20498c161f41d9bbbb1f58d5a71991",
       "version_major": 2,
       "version_minor": 0
      },
      "text/plain": [
       "Adding requests:   0%|          | 0/5 [00:00<?, ?it/s]"
      ]
     },
     "metadata": {},
     "output_type": "display_data"
    },
    {
     "data": {
      "application/vnd.jupyter.widget-view+json": {
       "model_id": "0408bac657514bc8b3f6355edeea8799",
       "version_major": 2,
       "version_minor": 0
      },
      "text/plain": [
       "Processed prompts:   0%|          | 0/5 [00:00<?, ?it/s, est. speed input: 0.00 toks/s, output: 0.00 toks/s]"
      ]
     },
     "metadata": {},
     "output_type": "display_data"
    },
    {
     "name": "stdout",
     "output_type": "stream",
     "text": [
      "\n",
      "Neuron 208 (from SAE M=256, K=8): mentions specific food preparation techniques or textures, such as 'crunchy on the outside with a creamier center,' 'wood-burning oven,' 'hot and fresh,' or 'crispy'\n",
      "\n",
      "Top activating examples:\n",
      "1. Nice thin crust crunchy pizza.  Walking the French Quarter needing something to eat and drink and stumbled upon Louisiana Kitchen which was away from the hustle and bustle of the quarter.  We had an Abita amber and IPA  along with a cheese pizza.  The service was prompt and professional from a very friendly server.  The pizza was made in a wood burning oven and arrived quickly, hot and crispy.  After a nice relaxing break we left with our batteries recharged and ready to head back to hustle and bustle.\n",
      "2. Improved flow with high-tops added and table service all the way. MidiCi does not need to be as complicated as it was at first.   I just got a Margherita pizza with half pepperoni and      it was both light and filling. Flavorful; a hint of char. A Coke.   There is more to had here, for sure. But, it can be simple and very satisfying.\n",
      "3. Fast, Fast cooked noodle dishes!  Did I say Fast??  Walk in order and pay but don't sit down because your food will be ready in mere seconds!  Noodles slightly greasy but good taste.  Cheap prices too.\n",
      "----------------------------------------------------------------------------------------------------\n",
      "\n",
      "Neuron 75 (from SAE M=256, K=8): mentions detailed beer selection and specific beer types such as Belgian or German style beers\n",
      "\n",
      "Top activating examples:\n",
      "1. Great beer selection of course. It doesn't get any better than the beer bible that they present to you. Its like Disney World for the beer lover. Food.....its good. I mean.....its great. But......isnt  there anything else from Belgium that can be represented other than the one or two authentic Belgian items? I mean, the other Belgian place in Philly (Monk's) is the same way, so I dont have much to compare it to. I've never been to Belgium so its not really my realm. The food is great, and theres a beer style for everyone, with literally hundreds of haunting flavors throughout that brew menu for you to explore. But Im seriously looking for the Anthony Bourdain experience here. Weird me out, PLEASE! I want something new and different, instead of seeing mussels and burgers as the poplular fare.\n",
      "2. I'm not really a beer person, but their beer selection is ridiculous. The mussels were pretty good. My boyfriend had the chicken & apple sausage. The servers & wait staff were friendly. I probably wouldn't go out of my way for the food, but I would definitely go back if I happened to be in the neighborhood.\n",
      "3. The beer was alright, I did like the fact that they only brewed German style beers however they were not as good as the ones we have up north\n",
      "----------------------------------------------------------------------------------------------------\n",
      "\n",
      "Neuron 204 (from SAE M=256, K=8): mentions crepes\n",
      "\n",
      "Top activating examples:\n",
      "1. The search for a great creperie in America continues...  I had hopes for Le Cafe Creperie to be more authentic but I was quickly dismayed. Upon entering the restaurant you see the workers there making crepes right in the center of the restaurant and some small tables all around. I love Paris and French things but the decor was even a bit tacky for me (not to mention the overly instrumental \"French\" music and La vie en rose...)   Moving on from that... I came with a few friends to try a few of the savory and sweet crepes. My biggest thing is that I have yet to see a restaurant create a proper savory buckwheat crepe and when I saw it was an option on the menu to have a buckwheat crepe for $1 extra, my heart rejoiced! (Gluten-free friends, you too, can have a gluten-free crepe for $1 extra too) Typically, people here use the same batter for savory and sweet crepes and that's just not right!! I ordered a crepe Breton with chicken, arugula, and almonds and wasn't totally wowed by the experience. The buckwheat crep[... rest of text is truncated]\n",
      "2. Why a place that specializes in crepes only has one crepe cooktop I have no idea. It took 25 minutes to get one. Completely inefficient system. The eggs were very over cooked. The fruit side was frozen melon and blueberries that had no flavor. The staff seemed confused and annoyed to have to be working. On the scramble the cold cheese they put on top was never melted and again the eggs were over cooked and they charged $.75 for each add on which was just like a couple leaves of spinach and a few chopped onions. Ridiculous. The side salad was just a few leaves if mesclun with a raspberry vinaigrette. No options for dressing, that's just what you get. If you're not going to give options then maybe use something a little less specific. And just leaves? I mean add something else. At least some other veggies. I can't see a reason I would ever go back.\n",
      "3. Savory sweet whatever you like! It all comes served large and in charge within a crepe .. duh! I've tried several crepes here my favorite has to be their chicken and berry crepe :) beautiful garden out back that is also dog friendly ! Perfect for relaxing anytime of the day. Often times when I am out on 4th.. its either Cafe Marcel or the Co-op when it comes to deciding where I want to eat!! yes I am comparing this place to the Co-Op because its just that amazing\n",
      "----------------------------------------------------------------------------------------------------\n",
      "\n",
      "Neuron 87 (from SAE M=256, K=8): mentions Indian cuisine or Indian food\n",
      "\n",
      "Top activating examples:\n",
      "1. I was recommended to go to this Indian restaurant. I must preface that I'm half Indian half Italian, so my taste buds to Indian food are very sensitive.  My friend, Arvind, is also Indian and highly recommended the dosa at Chennai.  We went with our whole family on Sunday evening and had a very pleasant experience.  The food is delicious, prepared fresh, and the service was very nice.\n",
      "2. The best place for Indian food ,if you want to try something different Other than paneer or chicken tikka masala.. Must tries Chicken fried rice Bombay sandwich Pastries Coffee  Worst to try: Gobi manchurian\n",
      "3. Excellent Indian food. Much better than other fancier restaurants. Don't let the decor or location fool you. Excellent naans and chicken tikka masala. They even have lassi, not listed on the menu though.\n",
      "----------------------------------------------------------------------------------------------------\n",
      "\n",
      "Neuron 102 (from SAE M=256, K=8): mentions gelato or lasagna as a specific dish\n",
      "\n",
      "Top activating examples:\n",
      "1. Let yourself enjoy this hidden gem!  I got lasagna to test out the place- it was amazing!!!  Seriously- the entree was shareable and so tasty.  The red sauce was fresh and tasty... priced for a working person budget - try Thursday crab night!  You will be really happy\n",
      "2. Best gelato in Nashville. There, I said it.   I used to be a big fan of the Whole Foods gelato bar or places like Bravo Gelato, but now I can't go to either without sighing. *sigh* This isn't Legato.   Legato, you have ruined me. I'm not even mad.   Parking can be interesting in Edgehill, especially if you're cheap like me and avoid the pay lot at all costs.  Pick a side street and take a little stroll to walk off what you're about to indulge in.   I can't really give an accurate flavor recommendation because they change often and are basically all amazing.  Lately the peach has been my favorite and dark chocolate is always good mixed with banana or pretty much anything else.   Bonus: Find them at the 12th South farmer's market on a hot day to cool you off while you browse!\n",
      "3. I had THE WORST lasagna from this place. The taste was awful. It was served cold and the service was terrible. Don't waste your time.\n",
      "----------------------------------------------------------------------------------------------------\n"
     ]
    }
   ],
   "source": [
    "# This instruction will be included in the neuron interpretation prompt.\n",
    "# The below instructions are specific to Yelp, but you can customize this for your task.\n",
    "# If you don't pass in task-specific instructions, there is a generic instruction (see src/interpret_neurons.py);\n",
    "# task-specific instructions are optional, but they help produce hypotheses at the desired level of specificity.\n",
    "\n",
    "TASK_SPECIFIC_INSTRUCTIONS = \"\"\"All of the texts are reviews of restaurants on Yelp.\n",
    "Features should describe a specific aspect of the review. For example:\n",
    "- \"mentions long wait times to receive service\"\n",
    "- \"praises how a dish was cooked, with phrases like 'perfect medium-rare'\\\"\"\"\"\n",
    "\n",
    "# Interpret random neurons\n",
    "results = interpret_sae(\n",
    "    texts=texts,\n",
    "    embeddings=train_embeddings,\n",
    "    sae=sae,\n",
    "    interpreter_model=INTERPRETER_MODEL,\n",
    "    n_random_neurons=5,\n",
    "    print_examples_n=3,\n",
    "    task_specific_instructions=TASK_SPECIFIC_INSTRUCTIONS\n",
    ")"
   ]
  },
  {
   "cell_type": "markdown",
   "id": "5d0cb909",
   "metadata": {},
   "source": [
    "**4. Generate hypotheses**\n",
    "\n",
    "Generate hypotheses which are predictive of the target variable.  \n",
    "\n",
    "We use the local LLM to generate interpretations and then estimate each interpretation's fidelity by annotating texts with the interpretation.\n",
    "\n",
    "Here, we select neurons after ranking them by correlation with the target variable. See `src/select_neurons.py` for more details and other selection methods (e.g., Lasso).\n",
    "\n",
    "This cell outputs a dataframe with the following columns:\n",
    "- `neuron_idx`: The index of the neuron in the SAE (if you're using multiple SAEs, this will be a global index across all of them).\n",
    "- `source_sae`: The SAE that the neuron was selected from.\n",
    "- `target_{selection_method}`: The predictiveness of the neuron for the target variable, using the selected `selection_method`.\n",
    "- `interpretation`: The natural language interpretation of the neuron.\n",
    "- `interp_fidelity_score`: The F1 fidelity score for how well the neuron's interpretation actually corresponds to its activation pattern."
   ]
  },
  {
   "cell_type": "code",
   "execution_count": 7,
   "id": "433aa2e5",
   "metadata": {},
   "outputs": [
    {
     "name": "stdout",
     "output_type": "stream",
     "text": [
      "Embeddings shape: (20000, 768)\n"
     ]
    },
    {
     "data": {
      "application/vnd.jupyter.widget-view+json": {
       "model_id": "aae28549785b48f7ab7aab53765513ab",
       "version_major": 2,
       "version_minor": 0
      },
      "text/plain": [
       "Computing activations (batchsize=16384):   0%|          | 0/2 [00:00<?, ?it/s]"
      ]
     },
     "metadata": {},
     "output_type": "display_data"
    },
    {
     "name": "stdout",
     "output_type": "stream",
     "text": [
      "Activations shape: (20000, 256)\n",
      "\n",
      "Step 1: Selecting top 20 predictive neurons\n",
      "\n",
      "Step 2: Interpreting selected neurons\n"
     ]
    },
    {
     "data": {
      "application/vnd.jupyter.widget-view+json": {
       "model_id": "27e9c17d66e046e384401089c2ece144",
       "version_major": 2,
       "version_minor": 0
      },
      "text/plain": [
       "Adding requests:   0%|          | 0/20 [00:00<?, ?it/s]"
      ]
     },
     "metadata": {},
     "output_type": "display_data"
    },
    {
     "data": {
      "application/vnd.jupyter.widget-view+json": {
       "model_id": "c7c539ee5e1348e3bd285474099bb188",
       "version_major": 2,
       "version_minor": 0
      },
      "text/plain": [
       "Processed prompts:   0%|          | 0/20 [00:00<?, ?it/s, est. speed input: 0.00 toks/s, output: 0.00 toks/s]"
      ]
     },
     "metadata": {},
     "output_type": "display_data"
    },
    {
     "name": "stdout",
     "output_type": "stream",
     "text": [
      "\n",
      "Step 3: Scoring Interpretations\n",
      "Found 0 cached items; annotating 2000 uncached items\n"
     ]
    },
    {
     "data": {
      "application/vnd.jupyter.widget-view+json": {
       "model_id": "959d28533f2d4994bf5c911419ec68c8",
       "version_major": 2,
       "version_minor": 0
      },
      "text/plain": [
       "Adding requests:   0%|          | 0/2000 [00:00<?, ?it/s]"
      ]
     },
     "metadata": {},
     "output_type": "display_data"
    },
    {
     "data": {
      "application/vnd.jupyter.widget-view+json": {
       "model_id": "2938a551783346b2a7aa4e3e1ba571db",
       "version_major": 2,
       "version_minor": 0
      },
      "text/plain": [
       "Processed prompts:   0%|          | 0/2000 [00:00<?, ?it/s, est. speed input: 0.00 toks/s, output: 0.00 toks/s…"
      ]
     },
     "metadata": {},
     "output_type": "display_data"
    },
    {
     "name": "stdout",
     "output_type": "stream",
     "text": [
      "\n",
      "Most predictive features of Yelp reviews:\n"
     ]
    },
    {
     "data": {
      "text/html": [
       "<div>\n",
       "<style scoped>\n",
       "    .dataframe tbody tr th:only-of-type {\n",
       "        vertical-align: middle;\n",
       "    }\n",
       "\n",
       "    .dataframe tbody tr th {\n",
       "        vertical-align: top;\n",
       "    }\n",
       "\n",
       "    .dataframe thead th {\n",
       "        text-align: right;\n",
       "    }\n",
       "</style>\n",
       "<table border=\"1\" class=\"dataframe\">\n",
       "  <thead>\n",
       "    <tr style=\"text-align: right;\">\n",
       "      <th></th>\n",
       "      <th>neuron_idx</th>\n",
       "      <th>source_sae</th>\n",
       "      <th>target_correlation</th>\n",
       "      <th>interpretation</th>\n",
       "      <th>f1_fidelity_score</th>\n",
       "    </tr>\n",
       "  </thead>\n",
       "  <tbody>\n",
       "    <tr>\n",
       "      <th>5</th>\n",
       "      <td>15</td>\n",
       "      <td>(256, 8)</td>\n",
       "      <td>0.200716</td>\n",
       "      <td>uses hyperbolic superlatives (e.g., 'BEYOND AMAZING', 'PERFECT', 'FABULOUS') paired with multiple exclamation points to express extreme satisfaction</td>\n",
       "      <td>0.795181</td>\n",
       "    </tr>\n",
       "    <tr>\n",
       "      <th>6</th>\n",
       "      <td>254</td>\n",
       "      <td>(256, 8)</td>\n",
       "      <td>0.163757</td>\n",
       "      <td>expresses that the food is the best they've ever had, using superlatives like 'best ever,' 'epic,' 'unbelievable,' or 'out of this world' to describe the food quality</td>\n",
       "      <td>0.582154</td>\n",
       "    </tr>\n",
       "    <tr>\n",
       "      <th>11</th>\n",
       "      <td>34</td>\n",
       "      <td>(256, 8)</td>\n",
       "      <td>0.122538</td>\n",
       "      <td>mentions specific dishes and praises their preparation, taste, or texture with detailed descriptions</td>\n",
       "      <td>0.444255</td>\n",
       "    </tr>\n",
       "    <tr>\n",
       "      <th>15</th>\n",
       "      <td>227</td>\n",
       "      <td>(256, 8)</td>\n",
       "      <td>0.094623</td>\n",
       "      <td>mentions exceptional service quality and attention to detail, using phrases like 'outstanding service,' 'professional service,' or 'culture of hospitality'</td>\n",
       "      <td>0.427119</td>\n",
       "    </tr>\n",
       "    <tr>\n",
       "      <th>16</th>\n",
       "      <td>2</td>\n",
       "      <td>(256, 8)</td>\n",
       "      <td>0.093676</td>\n",
       "      <td>mentions friendly and attentive staff who check on customers or ensure they are taken care of</td>\n",
       "      <td>0.630303</td>\n",
       "    </tr>\n",
       "    <tr>\n",
       "      <th>17</th>\n",
       "      <td>214</td>\n",
       "      <td>(256, 8)</td>\n",
       "      <td>0.090071</td>\n",
       "      <td>mentions frequent visits and strong cravings for the food, using phrases like 'at least once a week,' 'crave this place,' or 'every time I visit'</td>\n",
       "      <td>0.499375</td>\n",
       "    </tr>\n",
       "    <tr>\n",
       "      <th>18</th>\n",
       "      <td>27</td>\n",
       "      <td>(256, 8)</td>\n",
       "      <td>0.089980</td>\n",
       "      <td>mentions that the restaurant is considered the best in a specific geographic area or category and compares it to other restaurants</td>\n",
       "      <td>0.872727</td>\n",
       "    </tr>\n",
       "    <tr>\n",
       "      <th>19</th>\n",
       "      <td>61</td>\n",
       "      <td>(256, 8)</td>\n",
       "      <td>-0.089931</td>\n",
       "      <td>mentions problems with online ordering or delivery services, including incorrect orders, lack of communication, or poor customer service resolution</td>\n",
       "      <td>0.802439</td>\n",
       "    </tr>\n",
       "    <tr>\n",
       "      <th>14</th>\n",
       "      <td>127</td>\n",
       "      <td>(256, 8)</td>\n",
       "      <td>-0.099267</td>\n",
       "      <td>mentions receiving food that was different from what was ordered, including incorrect items, wrong preparation, or insufficient portions, or the restaurant refusing to accommodate specific dietary or preparation requests</td>\n",
       "      <td>0.779747</td>\n",
       "    </tr>\n",
       "    <tr>\n",
       "      <th>13</th>\n",
       "      <td>58</td>\n",
       "      <td>(256, 8)</td>\n",
       "      <td>-0.099812</td>\n",
       "      <td>mentions being denied seating despite available tables or encountering unfair seating policies and uncomfortable seating arrangements</td>\n",
       "      <td>0.888889</td>\n",
       "    </tr>\n",
       "    <tr>\n",
       "      <th>12</th>\n",
       "      <td>230</td>\n",
       "      <td>(256, 8)</td>\n",
       "      <td>-0.106594</td>\n",
       "      <td>mentions automatic gratuity or hidden fees added to the bill without prior notice</td>\n",
       "      <td>0.507463</td>\n",
       "    </tr>\n",
       "    <tr>\n",
       "      <th>10</th>\n",
       "      <td>35</td>\n",
       "      <td>(256, 8)</td>\n",
       "      <td>-0.127215</td>\n",
       "      <td>mentions staff members being rude, obnoxious, or aggressive in their interactions with customers</td>\n",
       "      <td>0.916087</td>\n",
       "    </tr>\n",
       "    <tr>\n",
       "      <th>9</th>\n",
       "      <td>22</td>\n",
       "      <td>(256, 8)</td>\n",
       "      <td>-0.130920</td>\n",
       "      <td>mentions specific criticisms of food quality, such as dishes being bland, under-seasoned, or lacking flavor</td>\n",
       "      <td>0.678310</td>\n",
       "    </tr>\n",
       "    <tr>\n",
       "      <th>8</th>\n",
       "      <td>245</td>\n",
       "      <td>(256, 8)</td>\n",
       "      <td>-0.133829</td>\n",
       "      <td>mentions presence of insects (e.g., roaches, flies, stink bugs) in food or dining area, or reports illness from food safety issues</td>\n",
       "      <td>0.936170</td>\n",
       "    </tr>\n",
       "    <tr>\n",
       "      <th>7</th>\n",
       "      <td>97</td>\n",
       "      <td>(256, 8)</td>\n",
       "      <td>-0.156271</td>\n",
       "      <td>complains about order being incorrect or missing items</td>\n",
       "      <td>0.939574</td>\n",
       "    </tr>\n",
       "    <tr>\n",
       "      <th>4</th>\n",
       "      <td>253</td>\n",
       "      <td>(256, 8)</td>\n",
       "      <td>-0.232145</td>\n",
       "      <td>mentions food being described with negative adjectives such as 'bland', 'tasteless', 'overcooked', 'soggy', 'freezer burnt', 'terrible', or 'nasty'</td>\n",
       "      <td>0.855814</td>\n",
       "    </tr>\n",
       "    <tr>\n",
       "      <th>3</th>\n",
       "      <td>12</td>\n",
       "      <td>(256, 8)</td>\n",
       "      <td>-0.232772</td>\n",
       "      <td>mentions employees engaging in harassing, offensive, or discriminatory behavior toward customers, such as making inappropriate comments, following customers, or enforcing unfair policies</td>\n",
       "      <td>0.568116</td>\n",
       "    </tr>\n",
       "    <tr>\n",
       "      <th>2</th>\n",
       "      <td>1</td>\n",
       "      <td>(256, 8)</td>\n",
       "      <td>-0.253210</td>\n",
       "      <td>mentions long wait times to receive service or food</td>\n",
       "      <td>0.959583</td>\n",
       "    </tr>\n",
       "    <tr>\n",
       "      <th>1</th>\n",
       "      <td>0</td>\n",
       "      <td>(256, 8)</td>\n",
       "      <td>-0.402928</td>\n",
       "      <td>mentions severe service failures such as incorrect orders, rude or dishonest staff, and failure to resolve complaints</td>\n",
       "      <td>0.859535</td>\n",
       "    </tr>\n",
       "    <tr>\n",
       "      <th>0</th>\n",
       "      <td>21</td>\n",
       "      <td>(256, 8)</td>\n",
       "      <td>-0.869611</td>\n",
       "      <td>mentions negative service experiences including long wait times, incorrect orders, rude staff, or unclean conditions</td>\n",
       "      <td>0.980000</td>\n",
       "    </tr>\n",
       "  </tbody>\n",
       "</table>\n",
       "</div>"
      ],
      "text/plain": [
       "    neuron_idx source_sae  target_correlation  \\\n",
       "5           15   (256, 8)            0.200716   \n",
       "6          254   (256, 8)            0.163757   \n",
       "11          34   (256, 8)            0.122538   \n",
       "15         227   (256, 8)            0.094623   \n",
       "16           2   (256, 8)            0.093676   \n",
       "17         214   (256, 8)            0.090071   \n",
       "18          27   (256, 8)            0.089980   \n",
       "19          61   (256, 8)           -0.089931   \n",
       "14         127   (256, 8)           -0.099267   \n",
       "13          58   (256, 8)           -0.099812   \n",
       "12         230   (256, 8)           -0.106594   \n",
       "10          35   (256, 8)           -0.127215   \n",
       "9           22   (256, 8)           -0.130920   \n",
       "8          245   (256, 8)           -0.133829   \n",
       "7           97   (256, 8)           -0.156271   \n",
       "4          253   (256, 8)           -0.232145   \n",
       "3           12   (256, 8)           -0.232772   \n",
       "2            1   (256, 8)           -0.253210   \n",
       "1            0   (256, 8)           -0.402928   \n",
       "0           21   (256, 8)           -0.869611   \n",
       "\n",
       "                                                                                                                                                                                                                  interpretation  \\\n",
       "5                                                                           uses hyperbolic superlatives (e.g., 'BEYOND AMAZING', 'PERFECT', 'FABULOUS') paired with multiple exclamation points to express extreme satisfaction   \n",
       "6                                                         expresses that the food is the best they've ever had, using superlatives like 'best ever,' 'epic,' 'unbelievable,' or 'out of this world' to describe the food quality   \n",
       "11                                                                                                                          mentions specific dishes and praises their preparation, taste, or texture with detailed descriptions   \n",
       "15                                                                   mentions exceptional service quality and attention to detail, using phrases like 'outstanding service,' 'professional service,' or 'culture of hospitality'   \n",
       "16                                                                                                                                 mentions friendly and attentive staff who check on customers or ensure they are taken care of   \n",
       "17                                                                             mentions frequent visits and strong cravings for the food, using phrases like 'at least once a week,' 'crave this place,' or 'every time I visit'   \n",
       "18                                                                                            mentions that the restaurant is considered the best in a specific geographic area or category and compares it to other restaurants   \n",
       "19                                                                           mentions problems with online ordering or delivery services, including incorrect orders, lack of communication, or poor customer service resolution   \n",
       "14  mentions receiving food that was different from what was ordered, including incorrect items, wrong preparation, or insufficient portions, or the restaurant refusing to accommodate specific dietary or preparation requests   \n",
       "13                                                                                         mentions being denied seating despite available tables or encountering unfair seating policies and uncomfortable seating arrangements   \n",
       "12                                                                                                                                             mentions automatic gratuity or hidden fees added to the bill without prior notice   \n",
       "10                                                                                                                              mentions staff members being rude, obnoxious, or aggressive in their interactions with customers   \n",
       "9                                                                                                                    mentions specific criticisms of food quality, such as dishes being bland, under-seasoned, or lacking flavor   \n",
       "8                                                                                             mentions presence of insects (e.g., roaches, flies, stink bugs) in food or dining area, or reports illness from food safety issues   \n",
       "7                                                                                                                                                                         complains about order being incorrect or missing items   \n",
       "4                                                                            mentions food being described with negative adjectives such as 'bland', 'tasteless', 'overcooked', 'soggy', 'freezer burnt', 'terrible', or 'nasty'   \n",
       "3                                     mentions employees engaging in harassing, offensive, or discriminatory behavior toward customers, such as making inappropriate comments, following customers, or enforcing unfair policies   \n",
       "2                                                                                                                                                                            mentions long wait times to receive service or food   \n",
       "1                                                                                                          mentions severe service failures such as incorrect orders, rude or dishonest staff, and failure to resolve complaints   \n",
       "0                                                                                                           mentions negative service experiences including long wait times, incorrect orders, rude staff, or unclean conditions   \n",
       "\n",
       "    f1_fidelity_score  \n",
       "5            0.795181  \n",
       "6            0.582154  \n",
       "11           0.444255  \n",
       "15           0.427119  \n",
       "16           0.630303  \n",
       "17           0.499375  \n",
       "18           0.872727  \n",
       "19           0.802439  \n",
       "14           0.779747  \n",
       "13           0.888889  \n",
       "12           0.507463  \n",
       "10           0.916087  \n",
       "9            0.678310  \n",
       "8            0.936170  \n",
       "7            0.939574  \n",
       "4            0.855814  \n",
       "3            0.568116  \n",
       "2            0.959583  \n",
       "1            0.859535  \n",
       "0            0.980000  "
      ]
     },
     "metadata": {},
     "output_type": "display_data"
    }
   ],
   "source": [
    "selection_method = \"correlation\"\n",
    "results = generate_hypotheses(\n",
    "    texts=texts,\n",
    "    labels=labels,\n",
    "    embeddings=embeddings,\n",
    "    sae=sae,\n",
    "    interpreter_model=INTERPRETER_MODEL,\n",
    "    annotator_model=ANNOTATOR_MODEL,\n",
    "    selection_method=selection_method,\n",
    "    n_selected_neurons=20,\n",
    "    n_candidate_interpretations=1,\n",
    "    task_specific_instructions=TASK_SPECIFIC_INSTRUCTIONS\n",
    ")\n",
    "\n",
    "print(\"\\nMost predictive features of Yelp reviews:\")\n",
    "pd.set_option('display.max_colwidth', None)\n",
    "display(results.sort_values(by=f\"target_{selection_method}\", ascending=False))\n",
    "pd.reset_option('display.max_colwidth')"
   ]
  },
  {
   "cell_type": "markdown",
   "id": "084c1263",
   "metadata": {},
   "source": [
    "**5. Evaluate held-out generalization**\n",
    "\n",
    "Finally, we evaluate whether these are good hypotheses by testing whether their natural language interpretations can predict the target variable.  \n",
    "\n",
    "We compute annotations for each hypothesized concept on a holdout set (not seen during SAE training & feature selection).  \n",
    "This step uses the same local LLM as the one used to generate interpretations (though, for Qwen models, we set `enable_thinking=False` for annotation to improve speed).\n",
    "\n",
    "After annotation, we output a dataframe with the following columns:\n",
    "- `hypothesis`: The natural language hypothesis (which came from interpreting a predictive neuron in the SAE)\n",
    "- `separation_score`: How much the target variable differs when the concept is present vs. absent (i.e., $E[Y\\mid\\text{concept} = 1] - E[Y\\mid\\text{concept} = 0]$).\n",
    "- `separation_pvalue`: The t-test p-value of the null hypothesis that the separation score is 0 (i.e., the concept is not associated with the target variable).\n",
    "- `regression_coef`: The coefficient of the concept in a multivariate linear regression of the target variable on all concepts.\n",
    "- `regression_pval`: The p-value of the null hypothesis that the regression coefficient is 0.\n",
    "- `feature_prevalence`: The fraction of examples that contain the concept.\n",
    "\n",
    "Additionally, we output the evaluation metrics used in the paper:\n",
    "- Significant hypotheses: the number of hypotheses that are significant in the multivariate regression at a specified significance level (default $0.1$) after Bonferroni correction. You can pass in a different significance level using the `corrected_pval_threshold` parameter.\n",
    "- AUC or $R^2$: how well the hypotheses collectively predict the target variable in the multivariate regression.\n"
   ]
  },
  {
   "cell_type": "code",
   "execution_count": 8,
   "id": "b4e6d79d",
   "metadata": {},
   "outputs": [
    {
     "name": "stdout",
     "output_type": "stream",
     "text": [
      "Step 1: Annotating texts with 20 hypotheses\n",
      "Found 0 cached items; annotating 40000 uncached items\n"
     ]
    },
    {
     "data": {
      "application/vnd.jupyter.widget-view+json": {
       "model_id": "5e5ba670ec8f4624bfde7334c2a7d93e",
       "version_major": 2,
       "version_minor": 0
      },
      "text/plain": [
       "Adding requests:   0%|          | 0/40000 [00:00<?, ?it/s]"
      ]
     },
     "metadata": {},
     "output_type": "display_data"
    },
    {
     "data": {
      "application/vnd.jupyter.widget-view+json": {
       "model_id": "ce456664577f42abbb95ad57e176bdfe",
       "version_major": 2,
       "version_minor": 0
      },
      "text/plain": [
       "Processed prompts:   0%|          | 0/40000 [00:00<?, ?it/s, est. speed input: 0.00 toks/s, output: 0.00 toks/…"
      ]
     },
     "metadata": {},
     "output_type": "display_data"
    },
    {
     "name": "stdout",
     "output_type": "stream",
     "text": [
      "Step 2: Computing predictiveness of hypothesis annotations\n"
     ]
    },
    {
     "data": {
      "text/html": [
       "<div>\n",
       "<style scoped>\n",
       "    .dataframe tbody tr th:only-of-type {\n",
       "        vertical-align: middle;\n",
       "    }\n",
       "\n",
       "    .dataframe tbody tr th {\n",
       "        vertical-align: top;\n",
       "    }\n",
       "\n",
       "    .dataframe thead th {\n",
       "        text-align: right;\n",
       "    }\n",
       "</style>\n",
       "<table border=\"1\" class=\"dataframe\">\n",
       "  <thead>\n",
       "    <tr style=\"text-align: right;\">\n",
       "      <th></th>\n",
       "      <th>hypothesis</th>\n",
       "      <th>separation_score</th>\n",
       "      <th>separation_pval</th>\n",
       "      <th>regression_coef</th>\n",
       "      <th>regression_pval</th>\n",
       "      <th>feature_prevalence</th>\n",
       "    </tr>\n",
       "  </thead>\n",
       "  <tbody>\n",
       "    <tr>\n",
       "      <th>6</th>\n",
       "      <td>expresses that the food is the best they've ever had, using superlatives like 'best ever,' 'epic,' 'unbelievable,' or 'out of this world' to describe the food quality</td>\n",
       "      <td>1.100535</td>\n",
       "      <td>1.972704e-34</td>\n",
       "      <td>0.307047</td>\n",
       "      <td>8.053908e-07</td>\n",
       "      <td>0.1350</td>\n",
       "    </tr>\n",
       "    <tr>\n",
       "      <th>11</th>\n",
       "      <td>mentions specific dishes and praises their preparation, taste, or texture with detailed descriptions</td>\n",
       "      <td>1.086586</td>\n",
       "      <td>6.844723e-73</td>\n",
       "      <td>0.420917</td>\n",
       "      <td>5.429902e-24</td>\n",
       "      <td>0.4865</td>\n",
       "    </tr>\n",
       "    <tr>\n",
       "      <th>5</th>\n",
       "      <td>uses hyperbolic superlatives (e.g., 'BEYOND AMAZING', 'PERFECT', 'FABULOUS') paired with multiple exclamation points to express extreme satisfaction</td>\n",
       "      <td>1.058716</td>\n",
       "      <td>7.385799e-16</td>\n",
       "      <td>0.201603</td>\n",
       "      <td>1.638637e-02</td>\n",
       "      <td>0.0595</td>\n",
       "    </tr>\n",
       "    <tr>\n",
       "      <th>15</th>\n",
       "      <td>mentions exceptional service quality and attention to detail, using phrases like 'outstanding service,' 'professional service,' or 'culture of hospitality'</td>\n",
       "      <td>0.986522</td>\n",
       "      <td>2.255149e-23</td>\n",
       "      <td>0.266751</td>\n",
       "      <td>7.200962e-05</td>\n",
       "      <td>0.1095</td>\n",
       "    </tr>\n",
       "    <tr>\n",
       "      <th>16</th>\n",
       "      <td>mentions friendly and attentive staff who check on customers or ensure they are taken care of</td>\n",
       "      <td>0.891304</td>\n",
       "      <td>7.406501e-37</td>\n",
       "      <td>0.222345</td>\n",
       "      <td>5.317346e-06</td>\n",
       "      <td>0.2565</td>\n",
       "    </tr>\n",
       "    <tr>\n",
       "      <th>17</th>\n",
       "      <td>mentions frequent visits and strong cravings for the food, using phrases like 'at least once a week,' 'crave this place,' or 'every time I visit'</td>\n",
       "      <td>0.631096</td>\n",
       "      <td>2.969104e-07</td>\n",
       "      <td>0.235836</td>\n",
       "      <td>2.015711e-03</td>\n",
       "      <td>0.0690</td>\n",
       "    </tr>\n",
       "    <tr>\n",
       "      <th>18</th>\n",
       "      <td>mentions that the restaurant is considered the best in a specific geographic area or category and compares it to other restaurants</td>\n",
       "      <td>0.612500</td>\n",
       "      <td>1.665475e-10</td>\n",
       "      <td>0.086565</td>\n",
       "      <td>1.632675e-01</td>\n",
       "      <td>0.1200</td>\n",
       "    </tr>\n",
       "    <tr>\n",
       "      <th>12</th>\n",
       "      <td>mentions automatic gratuity or hidden fees added to the bill without prior notice</td>\n",
       "      <td>-1.048585</td>\n",
       "      <td>7.066972e-03</td>\n",
       "      <td>0.002354</td>\n",
       "      <td>9.921679e-01</td>\n",
       "      <td>0.0065</td>\n",
       "    </tr>\n",
       "    <tr>\n",
       "      <th>2</th>\n",
       "      <td>mentions long wait times to receive service or food</td>\n",
       "      <td>-1.104529</td>\n",
       "      <td>1.829027e-34</td>\n",
       "      <td>0.089186</td>\n",
       "      <td>1.712972e-01</td>\n",
       "      <td>0.1340</td>\n",
       "    </tr>\n",
       "    <tr>\n",
       "      <th>9</th>\n",
       "      <td>mentions specific criticisms of food quality, such as dishes being bland, under-seasoned, or lacking flavor</td>\n",
       "      <td>-1.770692</td>\n",
       "      <td>1.791816e-108</td>\n",
       "      <td>-0.576484</td>\n",
       "      <td>5.839361e-12</td>\n",
       "      <td>0.1620</td>\n",
       "    </tr>\n",
       "    <tr>\n",
       "      <th>4</th>\n",
       "      <td>mentions food being described with negative adjectives such as 'bland', 'tasteless', 'overcooked', 'soggy', 'freezer burnt', 'terrible', or 'nasty'</td>\n",
       "      <td>-1.918438</td>\n",
       "      <td>5.655564e-137</td>\n",
       "      <td>-0.687852</td>\n",
       "      <td>1.241400e-16</td>\n",
       "      <td>0.1715</td>\n",
       "    </tr>\n",
       "    <tr>\n",
       "      <th>14</th>\n",
       "      <td>mentions receiving food that was different from what was ordered, including incorrect items, wrong preparation, or insufficient portions, or the restaurant refusing to accommodate specific dietary or preparation requests</td>\n",
       "      <td>-1.952467</td>\n",
       "      <td>4.508897e-95</td>\n",
       "      <td>-0.089097</td>\n",
       "      <td>2.954976e-01</td>\n",
       "      <td>0.1115</td>\n",
       "    </tr>\n",
       "    <tr>\n",
       "      <th>7</th>\n",
       "      <td>complains about order being incorrect or missing items</td>\n",
       "      <td>-2.061927</td>\n",
       "      <td>4.213056e-86</td>\n",
       "      <td>-0.006178</td>\n",
       "      <td>9.508971e-01</td>\n",
       "      <td>0.0890</td>\n",
       "    </tr>\n",
       "    <tr>\n",
       "      <th>19</th>\n",
       "      <td>mentions problems with online ordering or delivery services, including incorrect orders, lack of communication, or poor customer service resolution</td>\n",
       "      <td>-2.147913</td>\n",
       "      <td>9.666171e-73</td>\n",
       "      <td>-0.396915</td>\n",
       "      <td>7.522073e-05</td>\n",
       "      <td>0.0685</td>\n",
       "    </tr>\n",
       "    <tr>\n",
       "      <th>3</th>\n",
       "      <td>mentions employees engaging in harassing, offensive, or discriminatory behavior toward customers, such as making inappropriate comments, following customers, or enforcing unfair policies</td>\n",
       "      <td>-2.159623</td>\n",
       "      <td>3.121173e-26</td>\n",
       "      <td>-0.314336</td>\n",
       "      <td>3.537886e-02</td>\n",
       "      <td>0.0235</td>\n",
       "    </tr>\n",
       "    <tr>\n",
       "      <th>13</th>\n",
       "      <td>mentions being denied seating despite available tables or encountering unfair seating policies and uncomfortable seating arrangements</td>\n",
       "      <td>-2.187547</td>\n",
       "      <td>3.575523e-17</td>\n",
       "      <td>-0.595058</td>\n",
       "      <td>3.384593e-04</td>\n",
       "      <td>0.0145</td>\n",
       "    </tr>\n",
       "    <tr>\n",
       "      <th>10</th>\n",
       "      <td>mentions staff members being rude, obnoxious, or aggressive in their interactions with customers</td>\n",
       "      <td>-2.204947</td>\n",
       "      <td>7.716214e-66</td>\n",
       "      <td>-0.111474</td>\n",
       "      <td>3.090632e-01</td>\n",
       "      <td>0.0585</td>\n",
       "    </tr>\n",
       "    <tr>\n",
       "      <th>8</th>\n",
       "      <td>mentions presence of insects (e.g., roaches, flies, stink bugs) in food or dining area, or reports illness from food safety issues</td>\n",
       "      <td>-2.301148</td>\n",
       "      <td>1.153994e-11</td>\n",
       "      <td>-0.149170</td>\n",
       "      <td>4.879829e-01</td>\n",
       "      <td>0.0085</td>\n",
       "    </tr>\n",
       "    <tr>\n",
       "      <th>0</th>\n",
       "      <td>mentions negative service experiences including long wait times, incorrect orders, rude staff, or unclean conditions</td>\n",
       "      <td>-2.341529</td>\n",
       "      <td>3.263651e-242</td>\n",
       "      <td>-1.078050</td>\n",
       "      <td>1.035188e-38</td>\n",
       "      <td>0.1865</td>\n",
       "    </tr>\n",
       "    <tr>\n",
       "      <th>1</th>\n",
       "      <td>mentions severe service failures such as incorrect orders, rude or dishonest staff, and failure to resolve complaints</td>\n",
       "      <td>-2.577711</td>\n",
       "      <td>2.228003e-190</td>\n",
       "      <td>-0.670718</td>\n",
       "      <td>1.255856e-11</td>\n",
       "      <td>0.1175</td>\n",
       "    </tr>\n",
       "  </tbody>\n",
       "</table>\n",
       "</div>"
      ],
      "text/plain": [
       "                                                                                                                                                                                                                      hypothesis  \\\n",
       "6                                                         expresses that the food is the best they've ever had, using superlatives like 'best ever,' 'epic,' 'unbelievable,' or 'out of this world' to describe the food quality   \n",
       "11                                                                                                                          mentions specific dishes and praises their preparation, taste, or texture with detailed descriptions   \n",
       "5                                                                           uses hyperbolic superlatives (e.g., 'BEYOND AMAZING', 'PERFECT', 'FABULOUS') paired with multiple exclamation points to express extreme satisfaction   \n",
       "15                                                                   mentions exceptional service quality and attention to detail, using phrases like 'outstanding service,' 'professional service,' or 'culture of hospitality'   \n",
       "16                                                                                                                                 mentions friendly and attentive staff who check on customers or ensure they are taken care of   \n",
       "17                                                                             mentions frequent visits and strong cravings for the food, using phrases like 'at least once a week,' 'crave this place,' or 'every time I visit'   \n",
       "18                                                                                            mentions that the restaurant is considered the best in a specific geographic area or category and compares it to other restaurants   \n",
       "12                                                                                                                                             mentions automatic gratuity or hidden fees added to the bill without prior notice   \n",
       "2                                                                                                                                                                            mentions long wait times to receive service or food   \n",
       "9                                                                                                                    mentions specific criticisms of food quality, such as dishes being bland, under-seasoned, or lacking flavor   \n",
       "4                                                                            mentions food being described with negative adjectives such as 'bland', 'tasteless', 'overcooked', 'soggy', 'freezer burnt', 'terrible', or 'nasty'   \n",
       "14  mentions receiving food that was different from what was ordered, including incorrect items, wrong preparation, or insufficient portions, or the restaurant refusing to accommodate specific dietary or preparation requests   \n",
       "7                                                                                                                                                                         complains about order being incorrect or missing items   \n",
       "19                                                                           mentions problems with online ordering or delivery services, including incorrect orders, lack of communication, or poor customer service resolution   \n",
       "3                                     mentions employees engaging in harassing, offensive, or discriminatory behavior toward customers, such as making inappropriate comments, following customers, or enforcing unfair policies   \n",
       "13                                                                                         mentions being denied seating despite available tables or encountering unfair seating policies and uncomfortable seating arrangements   \n",
       "10                                                                                                                              mentions staff members being rude, obnoxious, or aggressive in their interactions with customers   \n",
       "8                                                                                             mentions presence of insects (e.g., roaches, flies, stink bugs) in food or dining area, or reports illness from food safety issues   \n",
       "0                                                                                                           mentions negative service experiences including long wait times, incorrect orders, rude staff, or unclean conditions   \n",
       "1                                                                                                          mentions severe service failures such as incorrect orders, rude or dishonest staff, and failure to resolve complaints   \n",
       "\n",
       "    separation_score  separation_pval  regression_coef  regression_pval  \\\n",
       "6           1.100535     1.972704e-34         0.307047     8.053908e-07   \n",
       "11          1.086586     6.844723e-73         0.420917     5.429902e-24   \n",
       "5           1.058716     7.385799e-16         0.201603     1.638637e-02   \n",
       "15          0.986522     2.255149e-23         0.266751     7.200962e-05   \n",
       "16          0.891304     7.406501e-37         0.222345     5.317346e-06   \n",
       "17          0.631096     2.969104e-07         0.235836     2.015711e-03   \n",
       "18          0.612500     1.665475e-10         0.086565     1.632675e-01   \n",
       "12         -1.048585     7.066972e-03         0.002354     9.921679e-01   \n",
       "2          -1.104529     1.829027e-34         0.089186     1.712972e-01   \n",
       "9          -1.770692    1.791816e-108        -0.576484     5.839361e-12   \n",
       "4          -1.918438    5.655564e-137        -0.687852     1.241400e-16   \n",
       "14         -1.952467     4.508897e-95        -0.089097     2.954976e-01   \n",
       "7          -2.061927     4.213056e-86        -0.006178     9.508971e-01   \n",
       "19         -2.147913     9.666171e-73        -0.396915     7.522073e-05   \n",
       "3          -2.159623     3.121173e-26        -0.314336     3.537886e-02   \n",
       "13         -2.187547     3.575523e-17        -0.595058     3.384593e-04   \n",
       "10         -2.204947     7.716214e-66        -0.111474     3.090632e-01   \n",
       "8          -2.301148     1.153994e-11        -0.149170     4.879829e-01   \n",
       "0          -2.341529    3.263651e-242        -1.078050     1.035188e-38   \n",
       "1          -2.577711    2.228003e-190        -0.670718     1.255856e-11   \n",
       "\n",
       "    feature_prevalence  \n",
       "6               0.1350  \n",
       "11              0.4865  \n",
       "5               0.0595  \n",
       "15              0.1095  \n",
       "16              0.2565  \n",
       "17              0.0690  \n",
       "18              0.1200  \n",
       "12              0.0065  \n",
       "2               0.1340  \n",
       "9               0.1620  \n",
       "4               0.1715  \n",
       "14              0.1115  \n",
       "7               0.0890  \n",
       "19              0.0685  \n",
       "3               0.0235  \n",
       "13              0.0145  \n",
       "10              0.0585  \n",
       "8               0.0085  \n",
       "0               0.1865  \n",
       "1               0.1175  "
      ]
     },
     "metadata": {},
     "output_type": "display_data"
    },
    {
     "name": "stdout",
     "output_type": "stream",
     "text": [
      "\n",
      "Holdout Set Metrics:\n",
      "R² Score: 0.635\n",
      "Significant hypotheses: 11/20 (p < 5.000e-03)\n"
     ]
    }
   ],
   "source": [
    "holdout_df = pd.read_json(os.path.join(base_dir, \"yelp-demo-holdout-2K.json\"), lines=True)\n",
    "holdout_texts = holdout_df['text'].tolist()\n",
    "holdout_labels = holdout_df['stars'].values\n",
    "\n",
    "metrics, evaluation_df = evaluate_hypotheses(\n",
    "    hypotheses_df=results,\n",
    "    texts=holdout_texts,\n",
    "    labels=holdout_labels,\n",
    "    annotator_model=ANNOTATOR_MODEL,\n",
    ")\n",
    "\n",
    "pd.set_option('display.max_colwidth', None)\n",
    "display(evaluation_df)\n",
    "pd.reset_option('display.max_colwidth')\n",
    "\n",
    "print(\"\\nHoldout Set Metrics:\")\n",
    "print(f\"R² Score: {metrics['r2']:.3f}\")\n",
    "print(f\"Significant hypotheses: {metrics['Significant'][0]}/{metrics['Significant'][1]} \" \n",
    "      f\"(p < {metrics['Significant'][2]:.3e})\")"
   ]
  }
 ],
 "metadata": {
  "kernelspec": {
   "display_name": "nyt",
   "language": "python",
   "name": "python3"
  },
  "language_info": {
   "codemirror_mode": {
    "name": "ipython",
    "version": 3
   },
   "file_extension": ".py",
   "mimetype": "text/x-python",
   "name": "python",
   "nbconvert_exporter": "python",
   "pygments_lexer": "ipython3",
   "version": "3.10.18"
  }
 },
 "nbformat": 4,
 "nbformat_minor": 5
}
